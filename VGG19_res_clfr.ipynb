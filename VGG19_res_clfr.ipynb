{
  "cells": [
    {
      "cell_type": "markdown",
      "metadata": {
        "id": "vkdQl67ImuQp"
      },
      "source": [
        "# **Resume Classification with VGG19**"
      ]
    },
    {
      "cell_type": "code",
      "execution_count": 1,
      "metadata": {
        "id": "VdLIkpCxE1BW"
      },
      "outputs": [],
      "source": [
        "import numpy as np\n",
        "import pandas as pd\n",
        "import matplotlib.pyplot as plt\n",
        "import cv2\n",
        "import os\n",
        "from PIL import Image\n",
        "import torch\n",
        "import torch.nn as nn\n",
        "import torch.optim as optim\n",
        "from torch.utils.data import Dataset, DataLoader\n",
        "from torchvision import transforms"
      ]
    },
    {
      "cell_type": "code",
      "execution_count": 2,
      "metadata": {
        "id": "s3Quxv02E9Iw"
      },
      "outputs": [],
      "source": [
        "import tensorflow\n",
        "from tensorflow import keras\n",
        "from tensorflow.keras.preprocessing.image import ImageDataGenerator"
      ]
    },
    {
      "cell_type": "code",
      "execution_count": 58,
      "metadata": {
        "id": "WI49S88ozqMM"
      },
      "outputs": [],
      "source": [
        "import os\n",
        "from tensorflow.keras.preprocessing import image\n",
        "from tensorflow.keras.applications import ResNet50, VGG19\n",
        "from tensorflow.keras import layers\n",
        "from tensorflow.keras import Model\n",
        "from tensorflow.keras.optimizers import Adam"
      ]
    },
    {
      "cell_type": "markdown",
      "metadata": {
        "id": "xj1Jn5CTmjlW"
      },
      "source": [
        "# **Resizing & Data Augmentation**"
      ]
    },
    {
      "cell_type": "code",
      "execution_count": 3,
      "metadata": {
        "id": "uQL_Ux1IE9LX"
      },
      "outputs": [],
      "source": [
        "def resize_images(input_folder, output_folder, target_size=(600, 800)):\n",
        "\n",
        "    if not os.path.exists(output_folder):\n",
        "        os.makedirs(output_folder)\n",
        "\n",
        "    # Iterate through each image in the input folder\n",
        "    for filename in os.listdir(input_folder):\n",
        "        img_path = os.path.join(input_folder, filename)\n",
        "\n",
        "        img = Image.open(img_path)\n",
        "\n",
        "        # Resize the image to the target size\n",
        "        img_resized = img.resize(target_size, Image.ANTIALIAS)\n",
        "\n",
        "        # Save the resized image to the output folder\n",
        "        output_path = os.path.join(output_folder, filename)\n",
        "        img_resized.save(output_path)\n"
      ]
    },
    {
      "cell_type": "code",
      "execution_count": 4,
      "metadata": {
        "id": "OMKcZ-gLE9N2"
      },
      "outputs": [],
      "source": [
        "def augment_images(input_folder, output_folder, augment_size=10):\n",
        "    # Set up data augmentation\n",
        "    datagen = ImageDataGenerator(\n",
        "        width_shift_range=0.1,\n",
        "        height_shift_range=0.1,\n",
        "        zoom_range=0.1,\n",
        "        fill_mode='nearest'\n",
        "    )\n",
        "\n",
        "    if not os.path.exists(output_folder):\n",
        "        os.makedirs(output_folder)\n",
        "\n",
        "    # Iterate through each image in the input folder\n",
        "    for filename in os.listdir(input_folder):\n",
        "        img_path = os.path.join(input_folder, filename)\n",
        "\n",
        "        img = Image.open(img_path)\n",
        "\n",
        "        # Convert the image to a NumPy array and resize\n",
        "        img_array = np.array(img.resize((600, 800)).convert(\"RGB\"))\n",
        "\n",
        "        img_array = img_array.reshape((1,) + img_array.shape)\n",
        "\n",
        "        # Apply data augmentation\n",
        "        i = 0\n",
        "        for batch in datagen.flow(img_array, batch_size=1, save_to_dir=output_folder, save_prefix='augmented', save_format='png'):\n",
        "            i += 1\n",
        "            if i >= augment_size:\n",
        "                break  # Break after generating the specified number of augmented images"
      ]
    },
    {
      "cell_type": "code",
      "execution_count": 5,
      "metadata": {
        "colab": {
          "base_uri": "https://localhost:8080/"
        },
        "id": "oG_ELEEhE9QW",
        "outputId": "ae36f432-fde0-4cc2-a80b-8a56d93ccb1b"
      },
      "outputs": [
        {
          "name": "stderr",
          "output_type": "stream",
          "text": [
            "<ipython-input-3-f2626d97deb4>:14: DeprecationWarning: ANTIALIAS is deprecated and will be removed in Pillow 10 (2023-07-01). Use LANCZOS or Resampling.LANCZOS instead.\n",
            "  img_resized = img.resize(target_size, Image.ANTIALIAS)\n"
          ]
        }
      ],
      "source": [
        "# Resizing non-resume images\n",
        "resize_images('/content/drive/MyDrive/Bureau_assignment/Dataset/Non-resume', '/content/drive/MyDrive/Bureau_assignment/Dataset/non-res_resized')"
      ]
    },
    {
      "cell_type": "code",
      "execution_count": 16,
      "metadata": {
        "id": "hloEVN3hKHC_"
      },
      "outputs": [],
      "source": [
        "# Augmenting non resume resized images\n",
        "augment_images('/content/drive/MyDrive/Bureau_assignment/Dataset/non-res_resized', '/content/drive/MyDrive/Bureau_assignment/Dataset/augmented_non-res', augment_size=10)"
      ]
    },
    {
      "cell_type": "code",
      "execution_count": 17,
      "metadata": {
        "colab": {
          "base_uri": "https://localhost:8080/"
        },
        "id": "Uuu3GncTE9Sm",
        "outputId": "0c6e7fac-5ca0-4882-cb1f-f9a8b96827f0"
      },
      "outputs": [
        {
          "name": "stderr",
          "output_type": "stream",
          "text": [
            "<ipython-input-3-f2626d97deb4>:14: DeprecationWarning: ANTIALIAS is deprecated and will be removed in Pillow 10 (2023-07-01). Use LANCZOS or Resampling.LANCZOS instead.\n",
            "  img_resized = img.resize(target_size, Image.ANTIALIAS)\n"
          ]
        }
      ],
      "source": [
        "# Resizing resume images\n",
        "resize_images('/content/drive/MyDrive/Bureau_assignment/Dataset/Resume', '/content/drive/MyDrive/Bureau_assignment/Dataset/res_resized')"
      ]
    },
    {
      "cell_type": "code",
      "execution_count": 20,
      "metadata": {
        "id": "nqKQgn6uE9VA"
      },
      "outputs": [],
      "source": [
        "# Augmenting non resume resized images\n",
        "augment_images('/content/drive/MyDrive/Bureau_assignment/Dataset/res_resized', '/content/drive/MyDrive/Bureau_assignment/Dataset/augmented_res', augment_size=10)"
      ]
    },
    {
      "cell_type": "code",
      "execution_count": null,
      "metadata": {
        "id": "G-RT4WkaE9XZ"
      },
      "outputs": [],
      "source": []
    },
    {
      "cell_type": "markdown",
      "metadata": {
        "id": "WAGYG0E7mb7n"
      },
      "source": [
        "# **Training the Model**"
      ]
    },
    {
      "cell_type": "code",
      "execution_count": 59,
      "metadata": {
        "colab": {
          "base_uri": "https://localhost:8080/"
        },
        "id": "xhrPSWz0xGaY",
        "outputId": "e465095e-f248-40c6-b82c-2334e79aa4a3"
      },
      "outputs": [
        {
          "name": "stdout",
          "output_type": "stream",
          "text": [
            "Found 2647 images belonging to 2 classes.\n",
            "Downloading data from https://storage.googleapis.com/tensorflow/keras-applications/vgg19/vgg19_weights_tf_dim_ordering_tf_kernels_notop.h5\n",
            "80134624/80134624 [==============================] - 0s 0us/step\n"
          ]
        },
        {
          "name": "stderr",
          "output_type": "stream",
          "text": [
            "WARNING:absl:`lr` is deprecated in Keras optimizer, please use `learning_rate` or use the legacy optimizer, e.g.,tf.keras.optimizers.legacy.Adam.\n"
          ]
        },
        {
          "name": "stdout",
          "output_type": "stream",
          "text": [
            "Epoch 1/10\n",
            "82/82 [==============================] - 261s 2s/step - loss: 0.5032 - accuracy: 0.7637\n",
            "Epoch 2/10\n",
            "82/82 [==============================] - 136s 2s/step - loss: 0.3268 - accuracy: 0.8654\n",
            "Epoch 3/10\n",
            "82/82 [==============================] - 136s 2s/step - loss: 0.2443 - accuracy: 0.9098\n",
            "Epoch 4/10\n",
            "82/82 [==============================] - 136s 2s/step - loss: 0.1985 - accuracy: 0.9312\n",
            "Epoch 5/10\n",
            "82/82 [==============================] - 137s 2s/step - loss: 0.1623 - accuracy: 0.9465\n",
            "Epoch 6/10\n",
            "82/82 [==============================] - 136s 2s/step - loss: 0.1320 - accuracy: 0.9579\n",
            "Epoch 7/10\n",
            "82/82 [==============================] - 136s 2s/step - loss: 0.1220 - accuracy: 0.9602\n",
            "Epoch 8/10\n",
            "82/82 [==============================] - 136s 2s/step - loss: 0.1064 - accuracy: 0.9656\n",
            "Epoch 9/10\n",
            "82/82 [==============================] - 136s 2s/step - loss: 0.0932 - accuracy: 0.9706\n",
            "Epoch 10/10\n",
            "82/82 [==============================] - 136s 2s/step - loss: 0.0900 - accuracy: 0.9713\n"
          ]
        }
      ],
      "source": [
        "train_data_dir = '/content/drive/MyDrive/Bureau_assignment/Dataset/Augmented_dataset'\n",
        "\n",
        "# Define image size and batch size\n",
        "img_size = (600, 800)\n",
        "batch_size = 32\n",
        "\n",
        "# Set up data generators for training\n",
        "train_datagen = ImageDataGenerator(rescale=1./255)\n",
        "train_generator = train_datagen.flow_from_directory(\n",
        "    train_data_dir,\n",
        "    target_size=img_size,\n",
        "    batch_size=batch_size,\n",
        "    class_mode='binary',  # As it is a binary classification task\n",
        "    shuffle=True  # For training we can shuffle the images\n",
        ")\n",
        "\n",
        "\n",
        "# Loading VGG19 model with pre-trained weights (excluding top layers)\n",
        "base_model = VGG19(weights='imagenet', include_top=False, input_shape=(600, 800, 3))\n",
        "\n",
        "# Then we freeze the layers of the pre-trained model\n",
        "for layer in base_model.layers:\n",
        "    layer.trainable = False\n",
        "\n",
        "# We can add some extra classification layers\n",
        "x = base_model.output\n",
        "x = layers.GlobalAveragePooling2D()(x)\n",
        "x = layers.Dense(512, activation='relu')(x)\n",
        "predictions = layers.Dense(1, activation='sigmoid')(x)\n",
        "\n",
        "# final model\n",
        "model = Model(inputs=base_model.input, outputs=predictions)\n",
        "\n",
        "# Compile the model\n",
        "model.compile(optimizer=Adam(lr=0.0001), loss='binary_crossentropy', metrics=['accuracy'])\n",
        "\n",
        "# Train the model\n",
        "training = model.fit(\n",
        "    train_generator,\n",
        "    steps_per_epoch=train_generator.samples // batch_size,\n",
        "    epochs=10\n",
        ")\n"
      ]
    },
    {
      "cell_type": "code",
      "execution_count": 60,
      "metadata": {
        "colab": {
          "base_uri": "https://localhost:8080/"
        },
        "id": "_AiC1bkt-KO1",
        "outputId": "19e855da-c9f1-43ab-c9e2-2ef564703123"
      },
      "outputs": [
        {
          "name": "stderr",
          "output_type": "stream",
          "text": [
            "/usr/local/lib/python3.10/dist-packages/keras/src/engine/training.py:3103: UserWarning: You are saving your model as an HDF5 file via `model.save()`. This file format is considered legacy. We recommend using instead the native Keras format, e.g. `model.save('my_model.keras')`.\n",
            "  saving_api.save_model(\n"
          ]
        }
      ],
      "source": [
        "# Save the trained model\n",
        "model.save('vgg19_resume_classifier.h5')"
      ]
    },
    {
      "cell_type": "code",
      "execution_count": 61,
      "metadata": {
        "colab": {
          "base_uri": "https://localhost:8080/"
        },
        "id": "CS339OvixGmJ",
        "outputId": "a00929e2-a304-46e2-a3e2-59df3a6b0715"
      },
      "outputs": [
        {
          "data": {
            "text/plain": [
              "[<keras.src.engine.input_layer.InputLayer at 0x7a76ead36830>,\n",
              " <keras.src.layers.convolutional.conv2d.Conv2D at 0x7a76ead35b70>,\n",
              " <keras.src.layers.convolutional.conv2d.Conv2D at 0x7a76ead35e70>,\n",
              " <keras.src.layers.pooling.max_pooling2d.MaxPooling2D at 0x7a76eae5e740>,\n",
              " <keras.src.layers.convolutional.conv2d.Conv2D at 0x7a76eaead3c0>,\n",
              " <keras.src.layers.convolutional.conv2d.Conv2D at 0x7a76db01f610>,\n",
              " <keras.src.layers.pooling.max_pooling2d.MaxPooling2D at 0x7a76eae5ce20>,\n",
              " <keras.src.layers.convolutional.conv2d.Conv2D at 0x7a76eb00e9b0>,\n",
              " <keras.src.layers.convolutional.conv2d.Conv2D at 0x7a76eae8b460>,\n",
              " <keras.src.layers.convolutional.conv2d.Conv2D at 0x7a76db01faf0>,\n",
              " <keras.src.layers.convolutional.conv2d.Conv2D at 0x7a76eaeac790>,\n",
              " <keras.src.layers.pooling.max_pooling2d.MaxPooling2D at 0x7a76eac36e30>,\n",
              " <keras.src.layers.convolutional.conv2d.Conv2D at 0x7a76eaeac730>,\n",
              " <keras.src.layers.convolutional.conv2d.Conv2D at 0x7a76eac374f0>,\n",
              " <keras.src.layers.convolutional.conv2d.Conv2D at 0x7a76eac37be0>,\n",
              " <keras.src.layers.convolutional.conv2d.Conv2D at 0x7a76eac36260>,\n",
              " <keras.src.layers.pooling.max_pooling2d.MaxPooling2D at 0x7a76eac35ff0>,\n",
              " <keras.src.layers.convolutional.conv2d.Conv2D at 0x7a76eac37a30>,\n",
              " <keras.src.layers.convolutional.conv2d.Conv2D at 0x7a76eac35f00>,\n",
              " <keras.src.layers.convolutional.conv2d.Conv2D at 0x7a76eac35870>,\n",
              " <keras.src.layers.convolutional.conv2d.Conv2D at 0x7a76eac54880>,\n",
              " <keras.src.layers.pooling.max_pooling2d.MaxPooling2D at 0x7a76eac57c70>,\n",
              " <keras.src.layers.pooling.global_average_pooling2d.GlobalAveragePooling2D at 0x7a76eae5e7a0>,\n",
              " <keras.src.layers.core.dense.Dense at 0x7a76eac57d00>,\n",
              " <keras.src.layers.core.dense.Dense at 0x7a76eac565f0>]"
            ]
          },
          "execution_count": 61,
          "metadata": {},
          "output_type": "execute_result"
        }
      ],
      "source": [
        "model.layers"
      ]
    },
    {
      "cell_type": "code",
      "execution_count": 46,
      "metadata": {
        "id": "PNVGeImBT7H0"
      },
      "outputs": [],
      "source": [
        "# For loading the saved model\n",
        "\n",
        "from tensorflow.keras.models import load_model\n",
        "\n",
        "# model = load_model('/content/vgg19_resume_classifier_new.h5')"
      ]
    },
    {
      "cell_type": "code",
      "execution_count": 46,
      "metadata": {
        "id": "WnYH4fr4xGsR"
      },
      "outputs": [],
      "source": []
    },
    {
      "cell_type": "markdown",
      "metadata": {
        "id": "2wxA1KT_mOk3"
      },
      "source": [
        "# **Predictions & Test Accuracy**"
      ]
    },
    {
      "cell_type": "code",
      "execution_count": 62,
      "metadata": {
        "colab": {
          "base_uri": "https://localhost:8080/"
        },
        "id": "WW8CNSXMxGwr",
        "outputId": "04bd0f37-2478-47ad-91db-37b984c5989e"
      },
      "outputs": [
        {
          "name": "stdout",
          "output_type": "stream",
          "text": [
            "1/1 [==============================] - 4s 4s/step\n",
            "Prediction: Resume\n"
          ]
        }
      ],
      "source": [
        "# Function to preprocess the image for prediction\n",
        "def preprocess_image(img_path, target_size=(600, 800)):\n",
        "    img = image.load_img(img_path, target_size=target_size)\n",
        "    img_array = image.img_to_array(img)\n",
        "    img_array = np.expand_dims(img_array, axis=0)\n",
        "    return img_array / 255.0  # Normalize the pixel values to the range [0, 1]\n",
        "\n",
        "# prediction on a single image\n",
        "test_image_path = '/content/drive/MyDrive/Bureau_assignment/Dataset/Resume/Screenshot 2023-12-30 163245.png'  # Replace with the path to the test image\n",
        "preprocessed_image = preprocess_image(test_image_path)\n",
        "\n",
        "# prediction\n",
        "prediction = model.predict(preprocessed_image)\n",
        "\n",
        "if prediction > 0.5:\n",
        "    print(\"Prediction: Resume\")\n",
        "else:\n",
        "    print(\"Prediction: Non-Resume\")"
      ]
    },
    {
      "cell_type": "code",
      "execution_count": 63,
      "metadata": {
        "colab": {
          "base_uri": "https://localhost:8080/"
        },
        "id": "yazIn5AAxG0I",
        "outputId": "7a5bde02-016c-4deb-aba9-1b158f1e315a"
      },
      "outputs": [
        {
          "name": "stdout",
          "output_type": "stream",
          "text": [
            "Found 83 images belonging to 2 classes.\n",
            "3/3 [==============================] - 51s 24s/step - loss: 0.3636 - accuracy: 0.7952\n",
            "Test Loss: 0.36357375979423523, Test Accuracy: 0.7951807379722595\n"
          ]
        }
      ],
      "source": [
        "test_datagen = ImageDataGenerator(rescale=1./255)\n",
        "test_generator = test_datagen.flow_from_directory(\n",
        "    '/content/drive/MyDrive/Bureau_assignment/Dataset/Test_dataset',\n",
        "    target_size=(600, 800),\n",
        "    batch_size=batch_size,\n",
        "    class_mode='binary',\n",
        "    shuffle=False  # For testing there's no need to Shuffle the images\n",
        ")\n",
        "\n",
        "evaluation = model.evaluate(test_generator)\n",
        "print(f'Test Loss: {evaluation[0]}, Test Accuracy: {evaluation[1]}')"
      ]
    },
    {
      "cell_type": "code",
      "execution_count": 90,
      "metadata": {
        "colab": {
          "base_uri": "https://localhost:8080/"
        },
        "id": "-kPnYWbBxG3g",
        "outputId": "58ed2e52-9e3a-402d-8f8b-85e2b9b1f380"
      },
      "outputs": [
        {
          "data": {
            "text/plain": [
              "(83, 1)"
            ]
          },
          "execution_count": 90,
          "metadata": {},
          "output_type": "execute_result"
        }
      ],
      "source": []
    },
    {
      "cell_type": "markdown",
      "metadata": {
        "id": "rknMLpXjl5r_"
      },
      "source": [
        "# **Confusion Matrix**"
      ]
    },
    {
      "cell_type": "code",
      "execution_count": 91,
      "metadata": {
        "colab": {
          "base_uri": "https://localhost:8080/",
          "height": 543
        },
        "id": "zURNIKJ_xG66",
        "outputId": "40123277-d54c-405b-e132-fb8942355451"
      },
      "outputs": [
        {
          "name": "stdout",
          "output_type": "stream",
          "text": [
            "3/3 [==============================] - 4s 2s/step\n"
          ]
        },
        {
          "data": {
            "image/png": "[encoded data removed]",
            "text/plain": [
              "<Figure size 640x480 with 2 Axes>"
            ]
          },
          "metadata": {},
          "output_type": "display_data"
        }
      ],
      "source": [
        "from sklearn.metrics import confusion_matrix, classification_report\n",
        "\n",
        "# predictions\n",
        "y_pred = model.predict(test_generator)\n",
        "\n",
        "# we convert probabilities to class labels by rounding\n",
        "y_pred_labels = np.round(y_pred).squeeze()\n",
        "\n",
        "# true labels\n",
        "y_true = test_generator.classes\n",
        "\n",
        "# Compute confusion matrix\n",
        "conf_matrix = confusion_matrix(y_true, y_pred_labels)\n",
        "\n",
        "# Ploting confusion matrix\n",
        "plt.imshow(conf_matrix, interpolation='nearest', cmap=plt.cm.Blues)\n",
        "plt.title('Confusion Matrix')\n",
        "plt.colorbar()\n",
        "\n",
        "# Adding labels\n",
        "classes = test_generator.class_indices.keys()\n",
        "tick_marks = np.arange(len(classes))\n",
        "plt.xticks(tick_marks, classes, rotation=45)\n",
        "plt.yticks(tick_marks, classes)\n",
        "\n",
        "# values in each cell\n",
        "for i in range(conf_matrix.shape[0]):\n",
        "    for j in range(conf_matrix.shape[1]):\n",
        "        plt.text(j, i, str(conf_matrix[i, j]),\n",
        "                 horizontalalignment=\"center\",\n",
        "                 color=\"white\" if conf_matrix[i, j] > conf_matrix.max() / 2 else \"black\")\n",
        "\n",
        "plt.xlabel('Predicted Label')\n",
        "plt.ylabel('True Label')\n",
        "plt.show()\n"
      ]
    },
    {
      "cell_type": "markdown",
      "metadata": {
        "id": "n4grsazAllSl"
      },
      "source": [
        "# **Evaluation of Model**"
      ]
    },
    {
      "cell_type": "code",
      "execution_count": 92,
      "metadata": {
        "id": "tePh6hnOxHEb"
      },
      "outputs": [],
      "source": [
        "# Then we import metrics\n",
        "\n",
        "from sklearn.metrics import precision_score, recall_score, f1_score"
      ]
    },
    {
      "cell_type": "code",
      "execution_count": 94,
      "metadata": {
        "id": "NzuND3tExHHI"
      },
      "outputs": [],
      "source": [
        "precision = precision_score(y_true, y_pred_labels)\n",
        "recall = recall_score(y_true, y_pred_labels)\n",
        "f1 = f1_score(y_true, y_pred_labels)"
      ]
    },
    {
      "cell_type": "code",
      "execution_count": 97,
      "metadata": {
        "colab": {
          "base_uri": "https://localhost:8080/"
        },
        "id": "WpvVsU_1xHKB",
        "outputId": "6e344745-f706-45fd-f0cd-1af02afa875b"
      },
      "outputs": [
        {
          "name": "stdout",
          "output_type": "stream",
          "text": [
            "Accuracy: 0.7951807379722595\n",
            "Precision: 0.74\n",
            "Recall: 0.9024390243902439\n",
            "F1_score: 0.8131868131868132\n"
          ]
        }
      ],
      "source": [
        "print(\"Accuracy:\", evaluation[1])\n",
        "print(\"Precision:\", precision)\n",
        "print(\"Recall:\", recall)\n",
        "print(\"F1_score:\", f1)"
      ]
    },
    {
      "cell_type": "code",
      "execution_count": null,
      "metadata": {
        "id": "mWsCNn4txHNR"
      },
      "outputs": [],
      "source": []
    },
    {
      "cell_type": "code",
      "execution_count": null,
      "metadata": {
        "id": "dyjKlBcNxHQL"
      },
      "outputs": [],
      "source": []
    },
    {
      "cell_type": "code",
      "execution_count": null,
      "metadata": {
        "id": "c-wYlilpxHTJ"
      },
      "outputs": [],
      "source": []
    },
    {
      "cell_type": "code",
      "execution_count": null,
      "metadata": {
        "id": "Wggrec-5xHWR"
      },
      "outputs": [],
      "source": []
    },
    {
      "cell_type": "code",
      "execution_count": null,
      "metadata": {
        "id": "JBMC5m37E9Zo"
      },
      "outputs": [],
      "source": []
    }
  ],
  "metadata": {
    "accelerator": "GPU",
    "colab": {
      "gpuType": "T4",
      "provenance": []
    },
    "kernelspec": {
      "display_name": "Python 3",
      "name": "python3"
    },
    "language_info": {
      "name": "python"
    }
  },
  "nbformat": 4,
  "nbformat_minor": 0
}
